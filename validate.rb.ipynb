{
 "cells": [
  {
   "cell_type": "markdown",
   "metadata": {},
   "source": []
  },
  {
   "attachments": {},
   "cell_type": "markdown",
   "metadata": {},
   "source": [
    "# This uses a Ruby Kernel instead of Python"
   ]
  },
  {
   "cell_type": "code",
   "execution_count": 39,
   "metadata": {},
   "outputs": [
    {
     "name": "stdout",
     "output_type": "stream",
     "text": [
      "Libraries loaded.\n"
     ]
    }
   ],
   "source": [
    "require 'open-uri'\n",
    "require 'nokogiri'\n",
    "puts(\"Libraries loaded.\")"
   ]
  },
  {
   "cell_type": "code",
   "execution_count": 40,
   "metadata": {},
   "outputs": [
    {
     "name": "stdout",
     "output_type": "stream",
     "text": [
      "URLs set.\n"
     ]
    }
   ],
   "source": [
    "xsd_url = \"https://raw.githubusercontent.com/usnistgov/OSCAL/main/xml/schema/oscal_ssp_schema.xsd\"\n",
    "#xml_url = \"https://raw.githubusercontent.com/Compton-NIST/OSCAL-Notebooks/main/ssp-valid.xml\"\n",
    "xml_url = \"https://raw.githubusercontent.com/Compton-NIST/OSCAL-Notebooks/main/ssp-NOT-valid.xml\"\n",
    "puts(\"URLs set.\")"
   ]
  },
  {
   "cell_type": "code",
   "execution_count": 41,
   "metadata": {},
   "outputs": [
    {
     "name": "stdout",
     "output_type": "stream",
     "text": [
      "Loaded XSD and XML files.\n"
     ]
    }
   ],
   "source": [
    "xsd_content = URI.open(xsd_url)\n",
    "xsd = Nokogiri::XML::Schema(xsd_content)\n",
    "\n",
    "xml_content = URI.open(xml_url)\n",
    "doc = Nokogiri::XML(xml_content)\n",
    "puts(\"Loaded XSD and XML files.\")"
   ]
  },
  {
   "cell_type": "code",
   "execution_count": 42,
   "metadata": {},
   "outputs": [
    {
     "name": "stdout",
     "output_type": "stream",
     "text": [
      "- 5:0: ERROR: Element '{http://csrc.nist.gov/ns/oscal/1.0}tiitle': This element is not expected. Expected is ( {http://csrc.nist.gov/ns/oscal/1.0}title ).\n",
      "- 58:0: ERROR: Element '{http://csrc.nist.gov/ns/oscal/1.0}status': This element is not expected. Expected is ( {http://csrc.nist.gov/ns/oscal/1.0}security-impact-level ).\n",
      "2 Error(s) Found.\n"
     ]
    }
   ],
   "source": [
    "@content = []\n",
    "xsd.validate(doc).each do |error|\n",
    "    @content.push(error.message)\n",
    "end \n",
    "\n",
    "@content.each do |line|\n",
    "    puts(\"- #{line}\")\n",
    "end\n",
    "puts(\"#{@content.length} Error(s) Found.\")"
   ]
  }
 ],
 "metadata": {
  "kernelspec": {
   "display_name": "Ruby 3.1.2",
   "language": "ruby",
   "name": "ruby"
  },
  "language_info": {
   "file_extension": ".rb",
   "mimetype": "application/x-ruby",
   "name": "ruby",
   "version": "3.1.2"
  },
  "orig_nbformat": 4
 },
 "nbformat": 4,
 "nbformat_minor": 2
}
